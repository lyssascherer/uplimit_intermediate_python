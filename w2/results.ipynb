{
 "cells": [
  {
   "cell_type": "code",
   "execution_count": 1,
   "metadata": {},
   "outputs": [],
   "source": [
    "import pandas as pd"
   ]
  },
  {
   "cell_type": "code",
   "execution_count": null,
   "metadata": {},
   "outputs": [],
   "source": [
    "# pd.DataFrame(columns = [\"type\", \"n_processes\", \"overall_time\", \"processes_time\"]).to_csv(\"results.csv\", index=False)"
   ]
  },
  {
   "cell_type": "code",
   "execution_count": 6,
   "metadata": {},
   "outputs": [
    {
     "data": {
      "text/html": [
       "<div>\n",
       "<style scoped>\n",
       "    .dataframe tbody tr th:only-of-type {\n",
       "        vertical-align: middle;\n",
       "    }\n",
       "\n",
       "    .dataframe tbody tr th {\n",
       "        vertical-align: top;\n",
       "    }\n",
       "\n",
       "    .dataframe thead th {\n",
       "        text-align: right;\n",
       "    }\n",
       "</style>\n",
       "<table border=\"1\" class=\"dataframe\">\n",
       "  <thead>\n",
       "    <tr style=\"text-align: right;\">\n",
       "      <th></th>\n",
       "      <th>type</th>\n",
       "      <th>n_processes</th>\n",
       "      <th>overall_time</th>\n",
       "      <th>formatted_time</th>\n",
       "    </tr>\n",
       "  </thead>\n",
       "  <tbody>\n",
       "    <tr>\n",
       "      <th>5</th>\n",
       "      <td>bg</td>\n",
       "      <td>1</td>\n",
       "      <td>437.436719</td>\n",
       "      <td>00:07:17</td>\n",
       "    </tr>\n",
       "    <tr>\n",
       "      <th>4</th>\n",
       "      <td>bg</td>\n",
       "      <td>2</td>\n",
       "      <td>418.073356</td>\n",
       "      <td>00:06:58</td>\n",
       "    </tr>\n",
       "    <tr>\n",
       "      <th>2</th>\n",
       "      <td>sml</td>\n",
       "      <td>1</td>\n",
       "      <td>65.467656</td>\n",
       "      <td>00:01:05</td>\n",
       "    </tr>\n",
       "    <tr>\n",
       "      <th>3</th>\n",
       "      <td>sml</td>\n",
       "      <td>2</td>\n",
       "      <td>58.317303</td>\n",
       "      <td>00:00:58</td>\n",
       "    </tr>\n",
       "    <tr>\n",
       "      <th>1</th>\n",
       "      <td>tst</td>\n",
       "      <td>1</td>\n",
       "      <td>6.752745</td>\n",
       "      <td>00:00:06</td>\n",
       "    </tr>\n",
       "    <tr>\n",
       "      <th>0</th>\n",
       "      <td>tst</td>\n",
       "      <td>2</td>\n",
       "      <td>5.732378</td>\n",
       "      <td>00:00:05</td>\n",
       "    </tr>\n",
       "  </tbody>\n",
       "</table>\n",
       "</div>"
      ],
      "text/plain": [
       "  type  n_processes  overall_time formatted_time\n",
       "5   bg            1    437.436719       00:07:17\n",
       "4   bg            2    418.073356       00:06:58\n",
       "2  sml            1     65.467656       00:01:05\n",
       "3  sml            2     58.317303       00:00:58\n",
       "1  tst            1      6.752745       00:00:06\n",
       "0  tst            2      5.732378       00:00:05"
      ]
     },
     "execution_count": 6,
     "metadata": {},
     "output_type": "execute_result"
    }
   ],
   "source": [
    "res = pd.read_csv(\"results.csv\").assign(formatted_time = lambda df: pd.to_datetime(df['overall_time'], unit='s').dt.strftime(\"%H:%M:%S\")).sort_values([\"type\", \"n_processes\"])\n",
    "res"
   ]
  },
  {
   "cell_type": "code",
   "execution_count": null,
   "metadata": {},
   "outputs": [],
   "source": []
  }
 ],
 "metadata": {
  "kernelspec": {
   "display_name": "Python 3 (ipykernel)",
   "language": "python",
   "name": "python3"
  },
  "language_info": {
   "codemirror_mode": {
    "name": "ipython",
    "version": 3
   },
   "file_extension": ".py",
   "mimetype": "text/x-python",
   "name": "python",
   "nbconvert_exporter": "python",
   "pygments_lexer": "ipython3",
   "version": "3.10.13"
  }
 },
 "nbformat": 4,
 "nbformat_minor": 2
}
